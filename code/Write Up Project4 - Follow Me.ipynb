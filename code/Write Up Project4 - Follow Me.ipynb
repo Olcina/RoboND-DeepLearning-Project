{
 "cells": [
  {
   "cell_type": "markdown",
   "metadata": {},
   "source": [
    "# Follow Me - Write Up\n",
    "\n",
    "### INDEX\n",
    "\n",
    "- ####  Data Analisys\n",
    "        dron camera diagrams\n",
    "         Encoding and decoding files\n",
    "         nice presentation\n",
    "           \n",
    "- ####  Data Gathering\n",
    "        train data + extra data\n",
    "           total data and some stats\n",
    "- ####  Network Analysis\n",
    "        network diagram + analisys --> tensors shapes \n",
    "- ####  HyperParameters\n",
    "        selection bases on paper -- reference (fully conv nets for semantic segmentation learning_rate = 10-3)\n",
    "        \n",
    "- ####  Training and Results\n",
    "        the results after AWS\n",
    "- ####  Further developments\n",
    "        Depth decoder from raw image --> depth camera vs computing depth?\n",
    "        New objects detection type --> trees, roads, buildings --> How do we obtain the masked images?\n",
    "        \n",
    "\n"
   ]
  },
  {
   "cell_type": "code",
   "execution_count": 2,
   "metadata": {},
   "outputs": [],
   "source": [
    "#LOAD MODULES\n",
    "import glob\n",
    "from tqdm import tqdm_notebook as tqdm\n"
   ]
  },
  {
   "cell_type": "markdown",
   "metadata": {},
   "source": [
    "The dron has 4 cameras with different views/ranges:\n",
    "    1. World \n",
    "    2. People\n",
    "    3. Camera\n",
    "    4. Depth\n",
    "\n",
    "The files are labeled as follow for one of the four cameras  \"cam( number )_( 5 digits number )\"\n",
    "\n",
    "With a simple script we can extract and visualize the different camera views"
   ]
  },
  {
   "cell_type": "code",
   "execution_count": 3,
   "metadata": {},
   "outputs": [
    {
     "name": "stdout",
     "output_type": "stream",
     "text": [
      "[]\n"
     ]
    }
   ],
   "source": [
    "folder = 'data/raw_sim_data/train/IMG/'\n",
    "\n",
    "def img_to_list(folder):\n",
    "    img_list = glob.glob(folder + '*.png')\n",
    "    return img_list\n",
    "\n",
    "print(img_to_list(folder))\n",
    "#images = img_to_list('train/train_combined/masks/')"
   ]
  },
  {
   "cell_type": "code",
   "execution_count": null,
   "metadata": {},
   "outputs": [],
   "source": []
  }
 ],
 "metadata": {
  "kernelspec": {
   "display_name": "Python [conda env:RoboND]",
   "language": "python",
   "name": "conda-env-RoboND-py"
  },
  "language_info": {
   "codemirror_mode": {
    "name": "ipython",
    "version": 3
   },
   "file_extension": ".py",
   "mimetype": "text/x-python",
   "name": "python",
   "nbconvert_exporter": "python",
   "pygments_lexer": "ipython3",
   "version": "3.5.2"
  },
  "widgets": {
   "state": {},
   "version": "1.1.2"
  }
 },
 "nbformat": 4,
 "nbformat_minor": 2
}
